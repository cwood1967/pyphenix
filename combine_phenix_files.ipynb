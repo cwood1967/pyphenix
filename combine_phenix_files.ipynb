{
 "cells": [
  {
   "cell_type": "code",
   "execution_count": 1,
   "id": "2fb1ea88",
   "metadata": {},
   "outputs": [],
   "source": [
    "import sys\n",
    "import os\n",
    "import tifffile\n",
    "\n",
    "import phenix"
   ]
  },
  {
   "cell_type": "code",
   "execution_count": null,
   "id": "574717cf",
   "metadata": {},
   "outputs": [],
   "source": []
  },
  {
   "cell_type": "code",
   "execution_count": 2,
   "id": "8ec0339f",
   "metadata": {},
   "outputs": [
    {
     "data": {
      "text/plain": [
       "True"
      ]
     },
     "execution_count": 2,
     "metadata": {},
     "output_type": "execute_result"
    }
   ],
   "source": [
    "images = '/n/core/micro/cry/ww2630/20220606_CD1_E16_BRAINS/6_6_22_CD1_BRAIN1_E16_GLY___2022-06-06T10_32_10-Measurement 1/Images'\n",
    "#images = '/n/core/micro/jeg/ac1692/jjl/live_screen_2021/GapR Screen_Plate20__2021-04-08T14_17_01-Measurement 1/Images'\n",
    "os.path.exists(images)"
   ]
  },
  {
   "cell_type": "code",
   "execution_count": 3,
   "id": "ee312e29",
   "metadata": {},
   "outputs": [
    {
     "name": "stdout",
     "output_type": "stream",
     "text": [
      "1.2220391\n"
     ]
    }
   ],
   "source": [
    "if sys.platform == 'win32':\n",
    "    correction_image_file = '/n/core/micro/cry/ww2630/cor_ref.tif'\n",
    "elif sys.platform == 'linux':\n",
    "    correction_image_file = '/n/core/micro/cry/ww2630/cor_ref.tif'\n",
    "elif sys.platform == 'darwin':\n",
    "    correction_image_file = '/Volume/core/micro/cry/ww2630/cor_ref.tif'\n",
    "else:\n",
    "    correction_image_file = None\n",
    "    \n",
    "if correction_image_file is not None:\n",
    "    correction_image = tifffile.imread(correction_image_file)\n",
    "else:\n",
    "    correction_image = None\n",
    "    \n",
    "print(correction_image.max())"
   ]
  },
  {
   "cell_type": "code",
   "execution_count": 5,
   "id": "1b1580a1",
   "metadata": {
    "scrolled": true
   },
   "outputs": [
    {
     "name": "stdout",
     "output_type": "stream",
     "text": [
      "['/n/core/micro/cry/ww2630/20220606_CD1_E16_BRAINS/6_6_22_CD1_BRAIN1_E16_GLY___2022-06-06T10_32_10-Measurement 1/Images']\n",
      "/n/core/micro/cry/ww2630/20220606_CD1_E16_BRAINS/6_6_22_CD1_BRAIN1_E16_GLY___2022-06-06T10_32_10-Measurement 1/Images\n"
     ]
    }
   ],
   "source": [
    "saveto = '/n/core/micro/cry/ww2630/20220606_CD1_E16_BRAINS/6_6_22_CD1_BRAIN1_E16_GLY___2022-06-06T10_32_10-Measurement 1/max_corrected'\n",
    "phenix.run(images, saveto, njobs=4, correction_image=correction_image)"
   ]
  },
  {
   "cell_type": "code",
   "execution_count": null,
   "id": "55554548",
   "metadata": {},
   "outputs": [],
   "source": []
  }
 ],
 "metadata": {
  "kernelspec": {
   "display_name": "Python 3 (ipykernel)",
   "language": "python",
   "name": "python3"
  },
  "language_info": {
   "codemirror_mode": {
    "name": "ipython",
    "version": 3
   },
   "file_extension": ".py",
   "mimetype": "text/x-python",
   "name": "python",
   "nbconvert_exporter": "python",
   "pygments_lexer": "ipython3",
   "version": "3.9.12"
  }
 },
 "nbformat": 4,
 "nbformat_minor": 5
}
